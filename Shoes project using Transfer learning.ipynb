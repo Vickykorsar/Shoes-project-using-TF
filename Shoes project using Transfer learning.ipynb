{
 "cells": [
  {
   "cell_type": "code",
   "execution_count": 1,
   "id": "1293d264",
   "metadata": {},
   "outputs": [],
   "source": [
    "import tensorflow as tf\n",
    "from tensorflow import keras\n",
    "from keras import layers, Sequential\n",
    "from keras.layers import Conv2D  ,MaxPooling2D,   Flatten  ,Dense  , Dropout\n",
    "import os\n",
    "import cv2 as cv\n",
    "import pandas as pd\n",
    "import numpy as np\n",
    "import matplotlib.pyplot as plt\n",
    "%matplotlib inline"
   ]
  },
  {
   "cell_type": "code",
   "execution_count": 2,
   "id": "1f4fba02",
   "metadata": {},
   "outputs": [],
   "source": [
    "path=r\"C:\\Users\\hp laptop\\Downloads\\Shoes company\\train\""
   ]
  },
  {
   "cell_type": "code",
   "execution_count": 3,
   "id": "dc6b8f46",
   "metadata": {},
   "outputs": [
    {
     "data": {
      "text/plain": [
       "['adidas', 'nike']"
      ]
     },
     "execution_count": 3,
     "metadata": {},
     "output_type": "execute_result"
    }
   ],
   "source": [
    "dis=os.listdir(path)\n",
    "dis"
   ]
  },
  {
   "cell_type": "code",
   "execution_count": 4,
   "id": "1c422be0",
   "metadata": {},
   "outputs": [
    {
     "data": {
      "text/plain": [
       "1"
      ]
     },
     "execution_count": 4,
     "metadata": {},
     "output_type": "execute_result"
    }
   ],
   "source": [
    "dis.index('nike')"
   ]
  },
  {
   "cell_type": "code",
   "execution_count": 7,
   "id": "b67f2673",
   "metadata": {},
   "outputs": [],
   "source": [
    "Data=[]\n",
    "for i in dis:\n",
    "    A=os.path.join(path,i)\n",
    "    for j in os.listdir(A):\n",
    "        B=os.path.join(A,j)\n",
    "        img=cv.imread(B)\n",
    "        C=cv.resize(img,(150,150))\n",
    "        T=dis.index(i)\n",
    "        Data.append([C,T])"
   ]
  },
  {
   "cell_type": "code",
   "execution_count": 8,
   "id": "a10f503b",
   "metadata": {},
   "outputs": [],
   "source": [
    "i=r\"C:\\Users\\hp laptop\\Downloads\\Shoes company\\train\\adidas\\adidas_ (136).jpg\""
   ]
  },
  {
   "cell_type": "code",
   "execution_count": 9,
   "id": "42af5b36",
   "metadata": {},
   "outputs": [
    {
     "data": {
      "text/plain": [
       "array([[[239, 237, 236],\n",
       "        [239, 237, 236],\n",
       "        [239, 237, 236],\n",
       "        ...,\n",
       "        [239, 237, 236],\n",
       "        [239, 237, 236],\n",
       "        [239, 237, 236]],\n",
       "\n",
       "       [[239, 237, 236],\n",
       "        [239, 237, 236],\n",
       "        [239, 237, 236],\n",
       "        ...,\n",
       "        [239, 237, 236],\n",
       "        [239, 237, 236],\n",
       "        [239, 237, 236]],\n",
       "\n",
       "       [[239, 237, 236],\n",
       "        [239, 237, 236],\n",
       "        [239, 237, 236],\n",
       "        ...,\n",
       "        [239, 237, 236],\n",
       "        [239, 237, 236],\n",
       "        [239, 237, 236]],\n",
       "\n",
       "       ...,\n",
       "\n",
       "       [[239, 237, 236],\n",
       "        [239, 237, 236],\n",
       "        [239, 237, 236],\n",
       "        ...,\n",
       "        [239, 237, 236],\n",
       "        [239, 237, 236],\n",
       "        [239, 237, 236]],\n",
       "\n",
       "       [[239, 237, 236],\n",
       "        [239, 237, 236],\n",
       "        [239, 237, 236],\n",
       "        ...,\n",
       "        [239, 237, 236],\n",
       "        [239, 237, 236],\n",
       "        [239, 237, 236]],\n",
       "\n",
       "       [[239, 237, 236],\n",
       "        [239, 237, 236],\n",
       "        [239, 237, 236],\n",
       "        ...,\n",
       "        [239, 237, 236],\n",
       "        [239, 237, 236],\n",
       "        [239, 237, 236]]], dtype=uint8)"
      ]
     },
     "execution_count": 9,
     "metadata": {},
     "output_type": "execute_result"
    }
   ],
   "source": [
    "k=cv.imread(i)\n",
    "k"
   ]
  },
  {
   "cell_type": "code",
   "execution_count": 10,
   "id": "41448a0e",
   "metadata": {},
   "outputs": [
    {
     "data": {
      "text/plain": [
       "(224, 224, 3)"
      ]
     },
     "execution_count": 10,
     "metadata": {},
     "output_type": "execute_result"
    }
   ],
   "source": [
    "k.shape"
   ]
  },
  {
   "cell_type": "code",
   "execution_count": 11,
   "id": "6f68942d",
   "metadata": {},
   "outputs": [
    {
     "data": {
      "text/plain": [
       "[array([[[255, 255, 255],\n",
       "         [255, 255, 255],\n",
       "         [255, 255, 255],\n",
       "         ...,\n",
       "         [255, 255, 255],\n",
       "         [255, 255, 255],\n",
       "         [255, 255, 255]],\n",
       " \n",
       "        [[255, 255, 255],\n",
       "         [255, 255, 255],\n",
       "         [255, 255, 255],\n",
       "         ...,\n",
       "         [255, 255, 255],\n",
       "         [255, 255, 255],\n",
       "         [255, 255, 255]],\n",
       " \n",
       "        [[255, 255, 255],\n",
       "         [255, 255, 255],\n",
       "         [255, 255, 255],\n",
       "         ...,\n",
       "         [255, 255, 255],\n",
       "         [255, 255, 255],\n",
       "         [255, 255, 255]],\n",
       " \n",
       "        ...,\n",
       " \n",
       "        [[255, 255, 255],\n",
       "         [255, 255, 255],\n",
       "         [255, 255, 255],\n",
       "         ...,\n",
       "         [255, 255, 255],\n",
       "         [255, 255, 255],\n",
       "         [255, 255, 255]],\n",
       " \n",
       "        [[255, 255, 255],\n",
       "         [255, 255, 255],\n",
       "         [255, 255, 255],\n",
       "         ...,\n",
       "         [255, 255, 255],\n",
       "         [255, 255, 255],\n",
       "         [255, 255, 255]],\n",
       " \n",
       "        [[255, 255, 255],\n",
       "         [255, 255, 255],\n",
       "         [255, 255, 255],\n",
       "         ...,\n",
       "         [255, 255, 255],\n",
       "         [255, 255, 255],\n",
       "         [255, 255, 255]]], dtype=uint8),\n",
       " 0]"
      ]
     },
     "execution_count": 11,
     "metadata": {},
     "output_type": "execute_result"
    }
   ],
   "source": [
    "Data[1]"
   ]
  },
  {
   "cell_type": "code",
   "execution_count": 12,
   "id": "5d665374",
   "metadata": {},
   "outputs": [
    {
     "data": {
      "text/plain": [
       "460"
      ]
     },
     "execution_count": 12,
     "metadata": {},
     "output_type": "execute_result"
    }
   ],
   "source": [
    "len(Data)"
   ]
  },
  {
   "cell_type": "code",
   "execution_count": 13,
   "id": "63386899",
   "metadata": {},
   "outputs": [],
   "source": [
    "import random #for shuffle\n",
    "random.shuffle(Data)"
   ]
  },
  {
   "cell_type": "code",
   "execution_count": 14,
   "id": "41a46a8d",
   "metadata": {},
   "outputs": [],
   "source": [
    "F=[]\n",
    "T=[]\n",
    "for i,j in Data:\n",
    "    F.append(i)\n",
    "    T.append(j)"
   ]
  },
  {
   "cell_type": "code",
   "execution_count": 15,
   "id": "658fe4b2",
   "metadata": {},
   "outputs": [
    {
     "data": {
      "text/html": [
       "<div>\n",
       "<style scoped>\n",
       "    .dataframe tbody tr th:only-of-type {\n",
       "        vertical-align: middle;\n",
       "    }\n",
       "\n",
       "    .dataframe tbody tr th {\n",
       "        vertical-align: top;\n",
       "    }\n",
       "\n",
       "    .dataframe thead th {\n",
       "        text-align: right;\n",
       "    }\n",
       "</style>\n",
       "<table border=\"1\" class=\"dataframe\">\n",
       "  <thead>\n",
       "    <tr style=\"text-align: right;\">\n",
       "      <th></th>\n",
       "      <th>0</th>\n",
       "      <th>1</th>\n",
       "    </tr>\n",
       "  </thead>\n",
       "  <tbody>\n",
       "    <tr>\n",
       "      <th>0</th>\n",
       "      <td>1</td>\n",
       "      <td>0</td>\n",
       "    </tr>\n",
       "    <tr>\n",
       "      <th>1</th>\n",
       "      <td>1</td>\n",
       "      <td>0</td>\n",
       "    </tr>\n",
       "    <tr>\n",
       "      <th>2</th>\n",
       "      <td>1</td>\n",
       "      <td>0</td>\n",
       "    </tr>\n",
       "    <tr>\n",
       "      <th>3</th>\n",
       "      <td>0</td>\n",
       "      <td>1</td>\n",
       "    </tr>\n",
       "    <tr>\n",
       "      <th>4</th>\n",
       "      <td>0</td>\n",
       "      <td>1</td>\n",
       "    </tr>\n",
       "    <tr>\n",
       "      <th>...</th>\n",
       "      <td>...</td>\n",
       "      <td>...</td>\n",
       "    </tr>\n",
       "    <tr>\n",
       "      <th>455</th>\n",
       "      <td>0</td>\n",
       "      <td>1</td>\n",
       "    </tr>\n",
       "    <tr>\n",
       "      <th>456</th>\n",
       "      <td>0</td>\n",
       "      <td>1</td>\n",
       "    </tr>\n",
       "    <tr>\n",
       "      <th>457</th>\n",
       "      <td>0</td>\n",
       "      <td>1</td>\n",
       "    </tr>\n",
       "    <tr>\n",
       "      <th>458</th>\n",
       "      <td>1</td>\n",
       "      <td>0</td>\n",
       "    </tr>\n",
       "    <tr>\n",
       "      <th>459</th>\n",
       "      <td>1</td>\n",
       "      <td>0</td>\n",
       "    </tr>\n",
       "  </tbody>\n",
       "</table>\n",
       "<p>460 rows × 2 columns</p>\n",
       "</div>"
      ],
      "text/plain": [
       "     0  1\n",
       "0    1  0\n",
       "1    1  0\n",
       "2    1  0\n",
       "3    0  1\n",
       "4    0  1\n",
       "..  .. ..\n",
       "455  0  1\n",
       "456  0  1\n",
       "457  0  1\n",
       "458  1  0\n",
       "459  1  0\n",
       "\n",
       "[460 rows x 2 columns]"
      ]
     },
     "execution_count": 15,
     "metadata": {},
     "output_type": "execute_result"
    }
   ],
   "source": [
    "T1=pd.get_dummies(T).replace({True:1,False:0})\n",
    "T1"
   ]
  },
  {
   "cell_type": "code",
   "execution_count": 16,
   "id": "1bbfc4df",
   "metadata": {},
   "outputs": [],
   "source": [
    "F=np.array(F)"
   ]
  },
  {
   "cell_type": "code",
   "execution_count": 17,
   "id": "bb6b715c",
   "metadata": {},
   "outputs": [],
   "source": [
    "F1=F/255"
   ]
  },
  {
   "cell_type": "code",
   "execution_count": 18,
   "id": "d5ee43fd",
   "metadata": {},
   "outputs": [
    {
     "data": {
      "text/plain": [
       "array([[[1., 1., 1.],\n",
       "        [1., 1., 1.],\n",
       "        [1., 1., 1.],\n",
       "        ...,\n",
       "        [1., 1., 1.],\n",
       "        [1., 1., 1.],\n",
       "        [1., 1., 1.]],\n",
       "\n",
       "       [[1., 1., 1.],\n",
       "        [1., 1., 1.],\n",
       "        [1., 1., 1.],\n",
       "        ...,\n",
       "        [1., 1., 1.],\n",
       "        [1., 1., 1.],\n",
       "        [1., 1., 1.]],\n",
       "\n",
       "       [[1., 1., 1.],\n",
       "        [1., 1., 1.],\n",
       "        [1., 1., 1.],\n",
       "        ...,\n",
       "        [1., 1., 1.],\n",
       "        [1., 1., 1.],\n",
       "        [1., 1., 1.]],\n",
       "\n",
       "       ...,\n",
       "\n",
       "       [[1., 1., 1.],\n",
       "        [1., 1., 1.],\n",
       "        [1., 1., 1.],\n",
       "        ...,\n",
       "        [1., 1., 1.],\n",
       "        [1., 1., 1.],\n",
       "        [1., 1., 1.]],\n",
       "\n",
       "       [[1., 1., 1.],\n",
       "        [1., 1., 1.],\n",
       "        [1., 1., 1.],\n",
       "        ...,\n",
       "        [1., 1., 1.],\n",
       "        [1., 1., 1.],\n",
       "        [1., 1., 1.]],\n",
       "\n",
       "       [[1., 1., 1.],\n",
       "        [1., 1., 1.],\n",
       "        [1., 1., 1.],\n",
       "        ...,\n",
       "        [1., 1., 1.],\n",
       "        [1., 1., 1.],\n",
       "        [1., 1., 1.]]])"
      ]
     },
     "execution_count": 18,
     "metadata": {},
     "output_type": "execute_result"
    }
   ],
   "source": [
    "F1[1]"
   ]
  },
  {
   "cell_type": "code",
   "execution_count": 19,
   "id": "70e5f01b",
   "metadata": {},
   "outputs": [
    {
     "data": {
      "text/plain": [
       "(460, 150, 150, 3)"
      ]
     },
     "execution_count": 19,
     "metadata": {},
     "output_type": "execute_result"
    }
   ],
   "source": [
    "F1.shape"
   ]
  },
  {
   "cell_type": "code",
   "execution_count": 20,
   "id": "e0197bf2",
   "metadata": {},
   "outputs": [
    {
     "data": {
      "text/plain": [
       "(460, 2)"
      ]
     },
     "execution_count": 20,
     "metadata": {},
     "output_type": "execute_result"
    }
   ],
   "source": [
    "T1.shape"
   ]
  },
  {
   "cell_type": "code",
   "execution_count": 21,
   "id": "a352070a",
   "metadata": {},
   "outputs": [],
   "source": [
    "T2=np.array(T1)"
   ]
  },
  {
   "cell_type": "code",
   "execution_count": 23,
   "id": "9ade0d98",
   "metadata": {},
   "outputs": [],
   "source": [
    "from keras.layers import Dense,Lambda,Input,Flatten\n",
    "from keras.models import Model\n",
    "from keras.applications.vgg16 import VGG16\n",
    "from keras.applications.vgg16 import preprocess_input\n",
    "from keras.models import Sequential"
   ]
  },
  {
   "cell_type": "code",
   "execution_count": 24,
   "id": "98c93faa",
   "metadata": {},
   "outputs": [],
   "source": [
    "vgg=VGG16(input_shape=[150,150,3]\n",
    "          ,weights='imagenet',\n",
    "          include_top=False)"
   ]
  },
  {
   "cell_type": "code",
   "execution_count": 26,
   "id": "0d9574dc",
   "metadata": {},
   "outputs": [],
   "source": [
    "for i in vgg.layers:\n",
    "    i.trainable=False"
   ]
  },
  {
   "cell_type": "code",
   "execution_count": 27,
   "id": "d33f5499",
   "metadata": {},
   "outputs": [],
   "source": [
    "x=Flatten()(vgg.output)"
   ]
  },
  {
   "cell_type": "code",
   "execution_count": 28,
   "id": "9f1b479c",
   "metadata": {},
   "outputs": [],
   "source": [
    "z=Dense(1,activation='sigmoid')(x)"
   ]
  },
  {
   "cell_type": "code",
   "execution_count": 29,
   "id": "54049fa1",
   "metadata": {},
   "outputs": [],
   "source": [
    "model=Model(vgg.input,z)"
   ]
  },
  {
   "cell_type": "code",
   "execution_count": 71,
   "id": "ad80a325",
   "metadata": {},
   "outputs": [],
   "source": [
    "model.compile(optimizer='adam',loss='binary_crossentropy',metrics=['accuracy'])"
   ]
  },
  {
   "cell_type": "code",
   "execution_count": 31,
   "id": "7ec0b177",
   "metadata": {},
   "outputs": [
    {
     "name": "stdout",
     "output_type": "stream",
     "text": [
      "Epoch 1/5\n",
      "\u001b[1m27/27\u001b[0m \u001b[32m━━━━━━━━━━━━━━━━━━━━\u001b[0m\u001b[37m\u001b[0m \u001b[1m41s\u001b[0m 2s/step - accuracy: 0.6670 - loss: 0.5725 - val_accuracy: 0.8406 - val_loss: 0.4096\n",
      "Epoch 2/5\n",
      "\u001b[1m27/27\u001b[0m \u001b[32m━━━━━━━━━━━━━━━━━━━━\u001b[0m\u001b[37m\u001b[0m \u001b[1m42s\u001b[0m 2s/step - accuracy: 0.9192 - loss: 0.2523 - val_accuracy: 0.7971 - val_loss: 0.3955\n",
      "Epoch 3/5\n",
      "\u001b[1m27/27\u001b[0m \u001b[32m━━━━━━━━━━━━━━━━━━━━\u001b[0m\u001b[37m\u001b[0m \u001b[1m43s\u001b[0m 2s/step - accuracy: 0.9397 - loss: 0.1854 - val_accuracy: 0.7101 - val_loss: 0.5029\n",
      "Epoch 4/5\n",
      "\u001b[1m27/27\u001b[0m \u001b[32m━━━━━━━━━━━━━━━━━━━━\u001b[0m\u001b[37m\u001b[0m \u001b[1m43s\u001b[0m 2s/step - accuracy: 0.9390 - loss: 0.1624 - val_accuracy: 0.8841 - val_loss: 0.3472\n",
      "Epoch 5/5\n",
      "\u001b[1m27/27\u001b[0m \u001b[32m━━━━━━━━━━━━━━━━━━━━\u001b[0m\u001b[37m\u001b[0m \u001b[1m43s\u001b[0m 2s/step - accuracy: 0.9894 - loss: 0.1010 - val_accuracy: 0.8841 - val_loss: 0.3325\n"
     ]
    },
    {
     "data": {
      "text/plain": [
       "<keras.src.callbacks.history.History at 0x17a789c6490>"
      ]
     },
     "execution_count": 31,
     "metadata": {},
     "output_type": "execute_result"
    }
   ],
   "source": [
    "model.fit(F1,T2,epochs=5,validation_split=0.15,batch_size=15)"
   ]
  },
  {
   "cell_type": "code",
   "execution_count": 41,
   "id": "9d1ca727",
   "metadata": {},
   "outputs": [],
   "source": [
    "test=r\"C:\\Users\\hp laptop\\Downloads\\Shoes company\\test\\nike\\Image_60.jpg\""
   ]
  },
  {
   "cell_type": "code",
   "execution_count": 42,
   "id": "f3dd0ac5",
   "metadata": {},
   "outputs": [
    {
     "data": {
      "text/plain": [
       "array([[[246, 246, 246],\n",
       "        [246, 246, 246],\n",
       "        [246, 246, 246],\n",
       "        ...,\n",
       "        [246, 246, 246],\n",
       "        [246, 246, 246],\n",
       "        [246, 246, 246]],\n",
       "\n",
       "       [[246, 246, 246],\n",
       "        [246, 246, 246],\n",
       "        [246, 246, 246],\n",
       "        ...,\n",
       "        [246, 246, 246],\n",
       "        [246, 246, 246],\n",
       "        [246, 246, 246]],\n",
       "\n",
       "       [[246, 246, 246],\n",
       "        [246, 246, 246],\n",
       "        [246, 246, 246],\n",
       "        ...,\n",
       "        [246, 246, 246],\n",
       "        [246, 246, 246],\n",
       "        [246, 246, 246]],\n",
       "\n",
       "       ...,\n",
       "\n",
       "       [[246, 246, 246],\n",
       "        [246, 246, 246],\n",
       "        [246, 246, 246],\n",
       "        ...,\n",
       "        [246, 246, 246],\n",
       "        [246, 246, 246],\n",
       "        [246, 246, 246]],\n",
       "\n",
       "       [[246, 246, 246],\n",
       "        [246, 246, 246],\n",
       "        [246, 246, 246],\n",
       "        ...,\n",
       "        [246, 246, 246],\n",
       "        [246, 246, 246],\n",
       "        [246, 246, 246]],\n",
       "\n",
       "       [[246, 246, 246],\n",
       "        [246, 246, 246],\n",
       "        [246, 246, 246],\n",
       "        ...,\n",
       "        [246, 246, 246],\n",
       "        [246, 246, 246],\n",
       "        [246, 246, 246]]], dtype=uint8)"
      ]
     },
     "execution_count": 42,
     "metadata": {},
     "output_type": "execute_result"
    }
   ],
   "source": [
    "A1=cv.imread(test)\n",
    "A1"
   ]
  },
  {
   "cell_type": "code",
   "execution_count": 48,
   "id": "0b96a65a",
   "metadata": {},
   "outputs": [],
   "source": [
    "A2=cv.resize(A1,(150,150))"
   ]
  },
  {
   "cell_type": "code",
   "execution_count": 49,
   "id": "d5ec28be",
   "metadata": {},
   "outputs": [],
   "source": [
    "A3=np.reshape(A2,(1,150,150,3))"
   ]
  },
  {
   "cell_type": "code",
   "execution_count": 44,
   "id": "f82cad59",
   "metadata": {},
   "outputs": [
    {
     "data": {
      "text/plain": [
       "<matplotlib.image.AxesImage at 0x17a7cb04690>"
      ]
     },
     "execution_count": 44,
     "metadata": {},
     "output_type": "execute_result"
    },
    {
     "data": {
      "image/png": "[encoded data removed]",
      "text/plain": [
       "<Figure size 640x480 with 1 Axes>"
      ]
     },
     "metadata": {},
     "output_type": "display_data"
    }
   ],
   "source": [
    "plt.imshow(A1)"
   ]
  },
  {
   "cell_type": "code",
   "execution_count": 50,
   "id": "e4997862",
   "metadata": {},
   "outputs": [
    {
     "name": "stdout",
     "output_type": "stream",
     "text": [
      "\u001b[1m1/1\u001b[0m \u001b[32m━━━━━━━━━━━━━━━━━━━━\u001b[0m\u001b[37m\u001b[0m \u001b[1m0s\u001b[0m 288ms/step\n"
     ]
    },
    {
     "data": {
      "text/plain": [
       "array([[1.6699426e-18, 1.0000000e+00]], dtype=float32)"
      ]
     },
     "execution_count": 50,
     "metadata": {},
     "output_type": "execute_result"
    }
   ],
   "source": [
    "pred=model.predict(A3)\n",
    "pred"
   ]
  },
  {
   "cell_type": "code",
   "execution_count": 51,
   "id": "92664ad7",
   "metadata": {},
   "outputs": [
    {
     "data": {
      "text/plain": [
       "1"
      ]
     },
     "execution_count": 51,
     "metadata": {},
     "output_type": "execute_result"
    }
   ],
   "source": [
    "np.argmax(pred)"
   ]
  },
  {
   "cell_type": "code",
   "execution_count": 61,
   "id": "1f037748",
   "metadata": {},
   "outputs": [
    {
     "data": {
      "text/plain": [
       "'adidas'"
      ]
     },
     "execution_count": 61,
     "metadata": {},
     "output_type": "execute_result"
    }
   ],
   "source": [
    "dis[0]"
   ]
  },
  {
   "cell_type": "code",
   "execution_count": 60,
   "id": "cbd86e9d",
   "metadata": {},
   "outputs": [
    {
     "data": {
      "text/plain": [
       "1.6699426e-18"
      ]
     },
     "execution_count": 60,
     "metadata": {},
     "output_type": "execute_result"
    }
   ],
   "source": [
    "pred[0][0]"
   ]
  },
  {
   "cell_type": "code",
   "execution_count": 62,
   "id": "070b8037",
   "metadata": {},
   "outputs": [
    {
     "name": "stdout",
     "output_type": "stream",
     "text": [
      "adidas\n"
     ]
    }
   ],
   "source": [
    "if pred[0][0]<0.5:\n",
    "    print('adidas')\n",
    "else:\n",
    "    print('nike')"
   ]
  },
  {
   "cell_type": "code",
   "execution_count": 63,
   "id": "45d249da",
   "metadata": {},
   "outputs": [],
   "source": [
    "path_test=r\"C:\\Users\\hp laptop\\Downloads\\Shoes company\\test\""
   ]
  },
  {
   "cell_type": "code",
   "execution_count": 64,
   "id": "984b1a58",
   "metadata": {},
   "outputs": [],
   "source": [
    "ct2=['adidas','nike']\n",
    "Data1=[]\n",
    "for i in ct2:\n",
    "    A=os.path.join(path_test,i)\n",
    "    #print(i)\n",
    "    #print(A)\n",
    "    for j in os.listdir(A):\n",
    "        B=os.path.join(A,j)\n",
    "        #print(B)\n",
    "        img=cv.imread(B)\n",
    "        #print(img.shape)\n",
    "        #plt.imshow(img)\n",
    "        #plt.show()\n",
    "        array=cv.resize(img,(150,150))\n",
    "        #print(array.shape)\n",
    "        #plt.imshow(array)\n",
    "        #plt.show()\n",
    "        labels=ct2.index(i)\n",
    "        #print(labels)\n",
    "        Data1.append([array,labels])"
   ]
  },
  {
   "cell_type": "code",
   "execution_count": 77,
   "id": "a4df5bb0",
   "metadata": {},
   "outputs": [],
   "source": [
    "F=[]\n",
    "T=[]\n",
    "for i,j in Data1:\n",
    "    F.append(i)\n",
    "    T.append(j)"
   ]
  },
  {
   "cell_type": "code",
   "execution_count": 78,
   "id": "62734670",
   "metadata": {},
   "outputs": [],
   "source": [
    "F=np.array(F)\n",
    "T=np.array(T)"
   ]
  },
  {
   "cell_type": "code",
   "execution_count": 79,
   "id": "40d6f65f",
   "metadata": {},
   "outputs": [],
   "source": [
    "F=F/255"
   ]
  },
  {
   "cell_type": "code",
   "execution_count": 80,
   "id": "33a7be53",
   "metadata": {},
   "outputs": [
    {
     "data": {
      "text/plain": [
       "array([0, 0, 0, 0, 0, 0, 0, 0, 0, 0, 0, 0, 0, 0, 0, 0, 0, 0, 0, 0, 0, 0,\n",
       "       0, 0, 0, 0, 0, 0, 0, 0, 1, 1, 1, 1, 1, 1, 1, 1, 1, 1, 1, 1, 1, 1,\n",
       "       1, 1, 1, 1, 1, 1, 1, 1, 1, 1, 1, 1, 1, 1, 1, 1])"
      ]
     },
     "execution_count": 80,
     "metadata": {},
     "output_type": "execute_result"
    }
   ],
   "source": [
    "T"
   ]
  },
  {
   "cell_type": "code",
   "execution_count": 81,
   "id": "7db4ed94",
   "metadata": {},
   "outputs": [
    {
     "name": "stdout",
     "output_type": "stream",
     "text": [
      "\u001b[1m2/2\u001b[0m \u001b[32m━━━━━━━━━━━━━━━━━━━━\u001b[0m\u001b[37m\u001b[0m \u001b[1m9s\u001b[0m 4s/step\n"
     ]
    },
    {
     "data": {
      "text/plain": [
       "array([[0.8604372 , 0.12512115],\n",
       "       [0.7767747 , 0.10904977],\n",
       "       [0.7875643 , 0.03835968],\n",
       "       [0.8604372 , 0.12512115],\n",
       "       [0.7767747 , 0.10904977],\n",
       "       [0.7875643 , 0.03835968],\n",
       "       [0.47242662, 0.34003338],\n",
       "       [0.89078987, 0.04441612],\n",
       "       [0.48471487, 0.38558364],\n",
       "       [0.62427616, 0.31256768],\n",
       "       [0.7069124 , 0.17223753],\n",
       "       [0.24569029, 0.55262476],\n",
       "       [0.50884706, 0.18453765],\n",
       "       [0.36239   , 0.21836157],\n",
       "       [0.7983718 , 0.11454779],\n",
       "       [0.5276059 , 0.14988746],\n",
       "       [0.5052552 , 0.5083289 ],\n",
       "       [0.67280257, 0.10004465],\n",
       "       [0.46580866, 0.28879222],\n",
       "       [0.7261723 , 0.05054345],\n",
       "       [0.6300849 , 0.20699702],\n",
       "       [0.2570405 , 0.4050292 ],\n",
       "       [0.662987  , 0.1264283 ],\n",
       "       [0.7332164 , 0.22707586],\n",
       "       [0.5558762 , 0.2873404 ],\n",
       "       [0.8087705 , 0.11203903],\n",
       "       [0.8160179 , 0.07441448],\n",
       "       [0.30682886, 0.21165815],\n",
       "       [0.3694624 , 0.24050042],\n",
       "       [0.6808827 , 0.12652244],\n",
       "       [0.04197508, 0.94924194],\n",
       "       [0.05958519, 0.7969567 ],\n",
       "       [0.12138896, 0.7721552 ],\n",
       "       [0.6065696 , 0.3439736 ],\n",
       "       [0.09554745, 0.7831542 ],\n",
       "       [0.03244668, 0.93616456],\n",
       "       [0.19347362, 0.65695184],\n",
       "       [0.07351518, 0.7394303 ],\n",
       "       [0.7427388 , 0.12172905],\n",
       "       [0.37447065, 0.33844134],\n",
       "       [0.09877664, 0.6537981 ],\n",
       "       [0.29258743, 0.5052464 ],\n",
       "       [0.28913492, 0.308792  ],\n",
       "       [0.4559676 , 0.15031177],\n",
       "       [0.02135098, 0.946375  ],\n",
       "       [0.17889206, 0.56486064],\n",
       "       [0.348976  , 0.34149364],\n",
       "       [0.13319916, 0.5691637 ],\n",
       "       [0.03344383, 0.89791214],\n",
       "       [0.14055608, 0.7309817 ],\n",
       "       [0.04630605, 0.7347845 ],\n",
       "       [0.0323388 , 0.91520315],\n",
       "       [0.12061065, 0.726853  ],\n",
       "       [0.67713916, 0.13795502],\n",
       "       [0.05530021, 0.8642474 ],\n",
       "       [0.38718072, 0.56965363],\n",
       "       [0.38616627, 0.4718754 ],\n",
       "       [0.35780331, 0.3679742 ],\n",
       "       [0.03435744, 0.8663613 ],\n",
       "       [0.3848427 , 0.43959   ]], dtype=float32)"
      ]
     },
     "execution_count": 81,
     "metadata": {},
     "output_type": "execute_result"
    }
   ],
   "source": [
    "pred2=model.predict(F)\n",
    "pred2"
   ]
  },
  {
   "cell_type": "code",
   "execution_count": 83,
   "id": "b3ce9c11",
   "metadata": {},
   "outputs": [],
   "source": [
    "Final=[]\n",
    "for i in pred2:\n",
    "    Final.append(np.argmax(i))"
   ]
  },
  {
   "cell_type": "code",
   "execution_count": 84,
   "id": "f34e12f5",
   "metadata": {},
   "outputs": [
    {
     "data": {
      "text/plain": [
       "[0,\n",
       " 0,\n",
       " 0,\n",
       " 0,\n",
       " 0,\n",
       " 0,\n",
       " 0,\n",
       " 0,\n",
       " 0,\n",
       " 0,\n",
       " 0,\n",
       " 1,\n",
       " 0,\n",
       " 0,\n",
       " 0,\n",
       " 0,\n",
       " 1,\n",
       " 0,\n",
       " 0,\n",
       " 0,\n",
       " 0,\n",
       " 1,\n",
       " 0,\n",
       " 0,\n",
       " 0,\n",
       " 0,\n",
       " 0,\n",
       " 0,\n",
       " 0,\n",
       " 0,\n",
       " 1,\n",
       " 1,\n",
       " 1,\n",
       " 0,\n",
       " 1,\n",
       " 1,\n",
       " 1,\n",
       " 1,\n",
       " 0,\n",
       " 0,\n",
       " 1,\n",
       " 1,\n",
       " 1,\n",
       " 0,\n",
       " 1,\n",
       " 1,\n",
       " 0,\n",
       " 1,\n",
       " 1,\n",
       " 1,\n",
       " 1,\n",
       " 1,\n",
       " 1,\n",
       " 0,\n",
       " 1,\n",
       " 1,\n",
       " 1,\n",
       " 1,\n",
       " 1,\n",
       " 1]"
      ]
     },
     "execution_count": 84,
     "metadata": {},
     "output_type": "execute_result"
    }
   ],
   "source": [
    "Final"
   ]
  },
  {
   "cell_type": "code",
   "execution_count": 85,
   "id": "0041044d",
   "metadata": {},
   "outputs": [
    {
     "data": {
      "text/plain": [
       "array([0, 0, 0, 0, 0, 0, 0, 0, 0, 0, 0, 0, 0, 0, 0, 0, 0, 0, 0, 0, 0, 0,\n",
       "       0, 0, 0, 0, 0, 0, 0, 0, 1, 1, 1, 1, 1, 1, 1, 1, 1, 1, 1, 1, 1, 1,\n",
       "       1, 1, 1, 1, 1, 1, 1, 1, 1, 1, 1, 1, 1, 1, 1, 1])"
      ]
     },
     "execution_count": 85,
     "metadata": {},
     "output_type": "execute_result"
    }
   ],
   "source": [
    "T"
   ]
  },
  {
   "cell_type": "code",
   "execution_count": 86,
   "id": "28b9c682",
   "metadata": {},
   "outputs": [
    {
     "data": {
      "text/plain": [
       "0.85"
      ]
     },
     "execution_count": 86,
     "metadata": {},
     "output_type": "execute_result"
    }
   ],
   "source": [
    "from sklearn.metrics import classification_report,confusion_matrix,accuracy_score\n",
    "accuracy_score(T,Final)\n"
   ]
  },
  {
   "cell_type": "code",
   "execution_count": 87,
   "id": "57cb4ef4",
   "metadata": {},
   "outputs": [
    {
     "data": {
      "text/plain": [
       "array([[27,  3],\n",
       "       [ 6, 24]], dtype=int64)"
      ]
     },
     "execution_count": 87,
     "metadata": {},
     "output_type": "execute_result"
    }
   ],
   "source": [
    "confusion_matrix(T,Final)"
   ]
  },
  {
   "cell_type": "code",
   "execution_count": 88,
   "id": "d77fc0b9",
   "metadata": {},
   "outputs": [
    {
     "name": "stdout",
     "output_type": "stream",
     "text": [
      "              precision    recall  f1-score   support\n",
      "\n",
      "           0       0.82      0.90      0.86        30\n",
      "           1       0.89      0.80      0.84        30\n",
      "\n",
      "    accuracy                           0.85        60\n",
      "   macro avg       0.85      0.85      0.85        60\n",
      "weighted avg       0.85      0.85      0.85        60\n",
      "\n"
     ]
    }
   ],
   "source": [
    "print(classification_report(T,Final))"
   ]
  },
  {
   "cell_type": "code",
   "execution_count": null,
   "id": "39d0546f",
   "metadata": {},
   "outputs": [],
   "source": []
  },
  {
   "cell_type": "code",
   "execution_count": null,
   "id": "281ed57b",
   "metadata": {},
   "outputs": [],
   "source": []
  },
  {
   "cell_type": "code",
   "execution_count": null,
   "id": "f2d2670c",
   "metadata": {},
   "outputs": [],
   "source": []
  },
  {
   "cell_type": "code",
   "execution_count": null,
   "id": "8e9c480a",
   "metadata": {},
   "outputs": [],
   "source": []
  },
  {
   "cell_type": "code",
   "execution_count": null,
   "id": "420b05d8",
   "metadata": {},
   "outputs": [],
   "source": []
  },
  {
   "cell_type": "code",
   "execution_count": null,
   "id": "6ca85359",
   "metadata": {},
   "outputs": [],
   "source": []
  },
  {
   "cell_type": "code",
   "execution_count": null,
   "id": "37152418",
   "metadata": {},
   "outputs": [],
   "source": []
  },
  {
   "cell_type": "code",
   "execution_count": null,
   "id": "fa7e62fd",
   "metadata": {},
   "outputs": [],
   "source": []
  },
  {
   "cell_type": "code",
   "execution_count": null,
   "id": "aaa6be06",
   "metadata": {},
   "outputs": [],
   "source": []
  },
  {
   "cell_type": "code",
   "execution_count": null,
   "id": "18a09a11",
   "metadata": {},
   "outputs": [],
   "source": []
  }
 ],
 "metadata": {
  "kernelspec": {
   "display_name": "Python 3 (ipykernel)",
   "language": "python",
   "name": "python3"
  },
  "language_info": {
   "codemirror_mode": {
    "name": "ipython",
    "version": 3
   },
   "file_extension": ".py",
   "mimetype": "text/x-python",
   "name": "python",
   "nbconvert_exporter": "python",
   "pygments_lexer": "ipython3",
   "version": "3.11.4"
  }
 },
 "nbformat": 4,
 "nbformat_minor": 5
}
